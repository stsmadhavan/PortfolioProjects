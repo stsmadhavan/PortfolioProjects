{
 "cells": [
  {
   "cell_type": "code",
   "execution_count": 3,
   "id": "ac2aed91-b6b2-4d15-a7c3-f1a4f74c9f24",
   "metadata": {},
   "outputs": [
    {
     "name": "stdin",
     "output_type": "stream",
     "text": [
      "Enter your name:   Sruthi\n",
      "Enter your weight in pounds:  141\n",
      "Enter your height in inches:   67\n"
     ]
    },
    {
     "name": "stdout",
     "output_type": "stream",
     "text": [
      "22.081309868567608\n",
      "Sruthi,you are normal weight.\n"
     ]
    }
   ],
   "source": [
    "name = input(\"Enter your name:  \")\n",
    "weight = int(input(\"Enter your weight in pounds: \"))\n",
    "height = int(input(\"Enter your height in inches:  \"))\n",
    "BMI = (weight * 703) / (height * height)\n",
    "print(BMI)\n",
    "if BMI>0:\n",
    "    if BMI<18.5:\n",
    "        print(name+ \",you are underweight.\")\n",
    "    elif BMI<=24.9:\n",
    "        print(name+ \",you are normal weight.\")\n",
    "    elif BMI<29.9:\n",
    "        print(name+ \",you are overweight.\")\n",
    "    elif BMI<34.9:\n",
    "        print(name+ \",you are obese.\")\n",
    "    elif BMI<39.9:\n",
    "        print(name+ \",you are severely obese.\")\n",
    "    else:\n",
    "        print(name+ \",you are morbidly obese.\")\n",
    "else:\n",
    "    print(\"Enter valid input.\")\n",
    "    "
   ]
  },
  {
   "cell_type": "code",
   "execution_count": null,
   "id": "11f8eaa9-c69c-4978-beae-9bae1c13270f",
   "metadata": {},
   "outputs": [],
   "source": []
  },
  {
   "cell_type": "code",
   "execution_count": null,
   "id": "15150cf3-1777-4258-828d-244d56747486",
   "metadata": {},
   "outputs": [],
   "source": []
  },
  {
   "cell_type": "code",
   "execution_count": null,
   "id": "ac1c50cc-ce36-4976-8dbe-26ddb1934a7d",
   "metadata": {},
   "outputs": [],
   "source": []
  },
  {
   "cell_type": "code",
   "execution_count": null,
   "id": "a9c717f7-f550-4994-a9fc-dfe21fea4753",
   "metadata": {},
   "outputs": [],
   "source": []
  },
  {
   "cell_type": "code",
   "execution_count": null,
   "id": "d96b1a4e-67ec-4797-be7d-7fd00683996c",
   "metadata": {},
   "outputs": [],
   "source": []
  },
  {
   "cell_type": "code",
   "execution_count": null,
   "id": "e1f0d416-f708-42f2-9c18-f214205f6ec3",
   "metadata": {},
   "outputs": [],
   "source": []
  },
  {
   "cell_type": "code",
   "execution_count": null,
   "id": "233b7572-6192-4bf4-8f6b-686260e5fc30",
   "metadata": {},
   "outputs": [],
   "source": []
  },
  {
   "cell_type": "code",
   "execution_count": null,
   "id": "19bde860-b2c0-4192-a2ec-552847787b20",
   "metadata": {},
   "outputs": [],
   "source": []
  },
  {
   "cell_type": "code",
   "execution_count": null,
   "id": "aca76319-1d9c-45eb-ab8d-6e8e30908609",
   "metadata": {},
   "outputs": [],
   "source": []
  },
  {
   "cell_type": "code",
   "execution_count": null,
   "id": "81e9953d-9f2d-4a68-bdc9-9bc12f2d949c",
   "metadata": {},
   "outputs": [],
   "source": []
  },
  {
   "cell_type": "code",
   "execution_count": null,
   "id": "6e368df4-e746-4ca1-a94c-a6239891fcb8",
   "metadata": {},
   "outputs": [],
   "source": []
  },
  {
   "cell_type": "code",
   "execution_count": null,
   "id": "be8c448d-8535-4f65-bde7-37047e60164a",
   "metadata": {},
   "outputs": [],
   "source": []
  },
  {
   "cell_type": "code",
   "execution_count": null,
   "id": "c1cdb40d-2484-4f2a-9a68-09086e769014",
   "metadata": {},
   "outputs": [],
   "source": []
  }
 ],
 "metadata": {
  "kernelspec": {
   "display_name": "Python 3 (ipykernel)",
   "language": "python",
   "name": "python3"
  },
  "language_info": {
   "codemirror_mode": {
    "name": "ipython",
    "version": 3
   },
   "file_extension": ".py",
   "mimetype": "text/x-python",
   "name": "python",
   "nbconvert_exporter": "python",
   "pygments_lexer": "ipython3",
   "version": "3.12.4"
  }
 },
 "nbformat": 4,
 "nbformat_minor": 5
}
